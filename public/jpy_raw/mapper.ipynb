{
 "cells": [
  {
   "cell_type": "code",
   "execution_count": 15,
   "id": "7c14bbfa-fff7-4cdd-a6e4-a84e1e475a0b",
   "metadata": {},
   "outputs": [
    {
     "name": "stdout",
     "output_type": "stream",
     "text": [
      "Found 1025 subjects.\n",
      "Each subject is represented by a vector of length 6670.\n",
      "Reduced dimension to 50 components.\n",
      "Plotting persistence diagrams...\n"
     ]
    },
    {
     "data": {
      "image/png": "[encoded data removed]",
      "text/plain": [
       "<Figure size 640x480 with 1 Axes>"
      ]
     },
     "metadata": {},
     "output_type": "display_data"
    }
   ],
   "source": [
    "import os\n",
    "import glob\n",
    "import numpy as np\n",
    "import scipy.io\n",
    "import matplotlib.pyplot as plt\n",
    "\n",
    "from sklearn.decomposition import PCA\n",
    "from ripser import ripser\n",
    "from persim import plot_diagrams\n",
    "\n",
    "from kmapper import KeplerMapper\n",
    "from kmapper.cover import Cover\n",
    "from sklearn.cluster import DBSCAN\n",
    "\n",
    "base_dir = \"./abide\"\n",
    "pattern = os.path.join(base_dir, \"*\", \"*AAL116_correlation_matrix.mat\")\n",
    "mat_files = glob.glob(pattern)\n",
    "\n",
    "subject_vectors = []\n",
    "subject_ids = []\n",
    "\n",
    "for mat_file in mat_files:\n",
    "    mat_contents = scipy.io.loadmat(mat_file)\n",
    "    corr = mat_contents.get('data')\n",
    "    if corr is None:\n",
    "        print(f\"Warning: 'data' key not found in {mat_file}. Skipping.\")\n",
    "        continue\n",
    "    if corr.shape == (116, 116):\n",
    "        triu_indices = np.triu_indices_from(corr, k=1)\n",
    "        vector = corr[triu_indices]\n",
    "        subject_vectors.append(vector)\n",
    "        subject_ids.append(os.path.basename(mat_file))\n",
    "    else:\n",
    "        print(f\"Warning: Unexpected matrix shape {corr.shape} in {mat_file}. Skipping.\")\n",
    "\n",
    "subject_vectors = np.array(subject_vectors)\n",
    "print(f\"Found {len(subject_vectors)} subjects.\")\n",
    "\n",
    "if len(subject_vectors) == 0:\n",
    "    print(\"No valid subjects found. Exiting.\")\n",
    "else:\n",
    "    print(f\"Each subject is represented by a vector of length {subject_vectors.shape[1]}.\")\n",
    "\n",
    "    n_components = 50\n",
    "    pca = PCA(n_components=n_components)\n",
    "    reduced_vectors = pca.fit_transform(subject_vectors)\n",
    "    print(f\"Reduced dimension to {reduced_vectors.shape[1]} components.\")\n",
    "\n",
    "    ph_result = ripser(reduced_vectors)\n",
    "    diagrams = ph_result['dgms']\n",
    "    print(\"Plotting persistence diagrams...\")\n",
    "    plot_diagrams(diagrams, show=True)"
   ]
  },
  {
   "cell_type": "code",
   "execution_count": 16,
   "id": "55d401eb-29d9-445f-a6d4-c3f62320f005",
   "metadata": {},
   "outputs": [
    {
     "name": "stdout",
     "output_type": "stream",
     "text": [
      "KeplerMapper(verbose=1)\n",
      "Mapping on data shaped (1025, 50) using lens shaped (1025, 2)\n",
      "\n",
      "Creating 225 hypercubes.\n",
      "\n",
      "Created 39 edges and 24 nodes in 0:00:00.033262.\n",
      "Wrote visualization to: mapper_output.html\n",
      "Mapper graph saved to mapper_output.html.\n",
      "TDA pipeline completed successfully.\n"
     ]
    }
   ],
   "source": [
    "    filter_pca = PCA(n_components=2)\n",
    "    filter_values = filter_pca.fit_transform(reduced_vectors)\n",
    "\n",
    "    mapper = KeplerMapper(verbose=1)\n",
    "\n",
    "    cover = Cover(n_cubes=15, perc_overlap=0.3)\n",
    "    \n",
    "    clusterer = DBSCAN(eps=5, min_samples=3)\n",
    "    \n",
    "    graph = mapper.map(\n",
    "        filter_values,\n",
    "        reduced_vectors,\n",
    "        cover=cover,\n",
    "        clusterer=clusterer\n",
    "    )\n",
    "\n",
    "    output_html = \"mapper_output.html\"\n",
    "    mapper.visualize(\n",
    "        graph,\n",
    "        path_html=output_html,\n",
    "        title=\"ABIDE AAL116 TDA Mapper Graph\"\n",
    "    )\n",
    "    print(f\"Mapper graph saved to {output_html}.\")\n",
    "    print(\"TDA pipeline completed successfully.\")"
   ]
  },
  {
   "cell_type": "code",
   "execution_count": null,
   "id": "e6d56d63-8d28-4d90-92c5-9741333a269a",
   "metadata": {},
   "outputs": [],
   "source": []
  }
 ],
 "metadata": {
  "kernelspec": {
   "display_name": "Python 3 (ipykernel)",
   "language": "python",
   "name": "python3"
  },
  "language_info": {
   "codemirror_mode": {
    "name": "ipython",
    "version": 3
   },
   "file_extension": ".py",
   "mimetype": "text/x-python",
   "name": "python",
   "nbconvert_exporter": "python",
   "pygments_lexer": "ipython3",
   "version": "3.9.18"
  }
 },
 "nbformat": 4,
 "nbformat_minor": 5
}
