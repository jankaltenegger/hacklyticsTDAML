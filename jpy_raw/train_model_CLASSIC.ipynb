{
 "cells": [
  {
   "cell_type": "code",
   "execution_count": 3,
   "id": "2d27f9b1-8ed3-48bd-ba61-fbe6af613c71",
   "metadata": {},
   "outputs": [
    {
     "name": "stderr",
     "output_type": "stream",
     "text": [
      "/home/hice1/crunch40/.jupyterhub/lib64/python3.9/site-packages/xgboost/core.py:158: UserWarning: [22:04:42] WARNING: /workspace/src/learner.cc:740: \n",
      "Parameters: { \"use_label_encoder\" } are not used.\n",
      "\n",
      "  warnings.warn(smsg, UserWarning)\n"
     ]
    },
    {
     "name": "stdout",
     "output_type": "stream",
     "text": [
      "XGBoost Test Accuracy: 0.6390\n",
      "\n",
      "Classification Report:\n",
      "              precision    recall  f1-score   support\n",
      "\n",
      "           0       0.69      0.66      0.67       116\n",
      "           1       0.58      0.62      0.60        89\n",
      "\n",
      "    accuracy                           0.64       205\n",
      "   macro avg       0.63      0.64      0.64       205\n",
      "weighted avg       0.64      0.64      0.64       205\n",
      "\n"
     ]
    }
   ],
   "source": [
    "import os\n",
    "import numpy as np\n",
    "import scipy.io\n",
    "import pandas as pd\n",
    "import matplotlib.pyplot as plt\n",
    "from sklearn.model_selection import train_test_split\n",
    "from sklearn.preprocessing import StandardScaler\n",
    "from sklearn.metrics import accuracy_score, classification_report, confusion_matrix\n",
    "import seaborn as sns\n",
    "from xgboost import XGBClassifier\n",
    "\n",
    "data_dir = \"./abide\"\n",
    "\n",
    "X = []\n",
    "y = []\n",
    "\n",
    "for subject in os.listdir(data_dir):\n",
    "    subject_path = os.path.join(data_dir, subject)\n",
    "    \n",
    "    if os.path.isdir(subject_path):\n",
    "        for file in os.listdir(subject_path):\n",
    "            if file.endswith(\"AAL116_correlation_matrix.mat\"):\n",
    "                mat_data = scipy.io.loadmat(os.path.join(subject_path, file))\n",
    "                \n",
    "                correlation_matrix = mat_data.get(\"data\")\n",
    "                if correlation_matrix is None:\n",
    "                    continue\n",
    "                \n",
    "                X.append(correlation_matrix.flatten())\n",
    "\n",
    "                label = 0 if \"control\" in subject.lower() else 1\n",
    "                y.append(label)\n",
    "\n",
    "X = np.array(X)\n",
    "y = np.array(y)\n",
    "\n",
    "X_train, X_test, y_train, y_test = train_test_split(X, y, test_size=0.2, random_state=42)\n",
    "\n",
    "scaler = StandardScaler()\n",
    "X_train = scaler.fit_transform(X_train)\n",
    "X_test = scaler.transform(X_test)\n",
    "\n",
    "clf = XGBClassifier(n_estimators=200,\n",
    "    max_depth=10,\n",
    "    learning_rate=0.1,\n",
    "    random_state=42,\n",
    "    use_label_encoder=False,   # new versions warn about label encoding\n",
    "    eval_metric='logloss')\n",
    "clf.fit(X_train, y_train)\n",
    "y_pred = clf.predict(X_test)\n",
    "\n",
    "accuracy = accuracy_score(y_test, y_pred)\n",
    "print(f\"XGBoost Test Accuracy: {accuracy:.4f}\")\n",
    "\n",
    "print(\"\\nClassification Report:\")\n",
    "print(classification_report(y_test, y_pred))"
   ]
  },
  {
   "cell_type": "code",
   "execution_count": null,
   "id": "15905bc7-10dd-446b-b552-4f1a81978217",
   "metadata": {},
   "outputs": [],
   "source": []
  }
 ],
 "metadata": {
  "kernelspec": {
   "display_name": "Python 3 (ipykernel)",
   "language": "python",
   "name": "python3"
  },
  "language_info": {
   "codemirror_mode": {
    "name": "ipython",
    "version": 3
   },
   "file_extension": ".py",
   "mimetype": "text/x-python",
   "name": "python",
   "nbconvert_exporter": "python",
   "pygments_lexer": "ipython3",
   "version": "3.9.18"
  }
 },
 "nbformat": 4,
 "nbformat_minor": 5
}
